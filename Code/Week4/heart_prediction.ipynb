{
 "cells": [
  {
   "cell_type": "code",
   "execution_count": 1,
   "metadata": {},
   "outputs": [],
   "source": [
    "import numpy as np\n",
    "import pandas as pd\n",
    "from tqdm import tqdm\n",
    "import matplotlib.pyplot as plt\n",
    "from sklearn.preprocessing import StandardScaler\n",
    "from sklearn.model_selection import train_test_split\n",
    "from sklearn.utils import shuffle\n",
    "from termcolor import colored\n",
    "from sklearn.metrics import accuracy_score, f1_score, precision_score, recall_score, confusion_matrix, ConfusionMatrixDisplay"
   ]
  },
  {
   "cell_type": "code",
   "execution_count": 2,
   "metadata": {},
   "outputs": [],
   "source": [
    "class Logistic_Regression():\n",
    "    def __init__(self, input_channels, output_channels, epochs, lr, loss_weight=None):\n",
    "        self.input_channels = input_channels\n",
    "        self.output_channels = output_channels\n",
    "        self.epochs = epochs\n",
    "        self.lr = lr\n",
    "        self.loss_his = []\n",
    "        self.weights = np.random.rand(input_channels * output_channels,1)\n",
    "        self.bias = np.random.rand(1)[0]\n",
    "        self.loss_weight = loss_weight\n",
    "\n",
    "    def __loss(self, y, y_pred):\n",
    "        if self.loss_weight is None:\n",
    "            return -np.mean(y * np.log(y_pred) + (1 - y) * np.log(1-y_pred))\n",
    "        else:\n",
    "            return -np.mean(3.5 * y * np.log(y_pred) + (1 - y) * np.log(1-y_pred))\n",
    "            # return - self.loss_weight * np.mean(y * np.log(y_pred)) - (1 - self.loss_weight) * np.mean((1 - y) * np.log(1-y_pred))\n",
    "            \n",
    "    def __sigmoid(self, x):\n",
    "        return 1 / (1 + np.exp(-x))\n",
    "\n",
    "    def __gradient(self, x, y, y_pred):\n",
    "        m = x.shape[0]\n",
    "\n",
    "        dw = np.dot(x.T, y_pred-y) / m\n",
    "        db = np.sum(y_pred-y) / m\n",
    "\n",
    "        return dw, db\n",
    "\n",
    "    def predict_prob(self, x):\n",
    "        return self.__sigmoid(np.dot(x, self.weights) + self.bias)\n",
    "\n",
    "    def fit(self, X, y):\n",
    "        loop = tqdm(range(self.epochs))\n",
    "        for _ in loop:\n",
    "            pred = self.predict_prob(X)\n",
    "            loss = self.__loss(y, pred)\n",
    "            self.loss_his.append(loss)\n",
    "\n",
    "            dw, db = self.__gradient(X, y, pred)\n",
    "            self.weights = self.weights - self.lr * dw\n",
    "            self.bias = self.bias - self.lr * db\n",
    "\n",
    "            loop.set_description(\"Training Proceed\")\n",
    "            loop.set_postfix(loss=loss)\n",
    "\n",
    "    def plot_loss(self):\n",
    "        plt.title(\"Training Loss\")\n",
    "        plt.xlabel(\"Epoch\")\n",
    "        plt.ylabel(\"Loss\")\n",
    "        plt.plot(self.loss_his)\n",
    "        plt.show()\n",
    "\n",
    "    def predict(self, x, threshold=0.5):\n",
    "        y_pred = self.predict_prob(x)\n",
    "        y_pred = y_pred >= threshold\n",
    "        y_pred = y_pred.astype('int')\n",
    "        return y_pred\n",
    "\n",
    "    def evaluate(self, x, y):\n",
    "        print(colored(\"\\nEvaluate on Test Set:\\n\", \"blue\"))\n",
    "        y_pred = self.predict(x)\n",
    "        print(colored(f\"\\tAccuracy: {accuracy_score(y, y_pred):.3f}\", \"yellow\"))\n",
    "        print(colored(f\"\\tPrecision: {precision_score(y, y_pred):.3f}\", \"yellow\"))\n",
    "        print(colored(f\"\\tRecall: {recall_score(y, y_pred):.3f}\", \"yellow\"))\n",
    "        print(colored(f\"\\tF1-score: {f1_score(y, y_pred):.3f}\", \"yellow\"))\n",
    "\n",
    "        confusion_m = confusion_matrix(y, y_pred)\n",
    "        \n",
    "        cm_display = ConfusionMatrixDisplay(confusion_matrix = confusion_m, display_labels = [False, True])\n",
    "        print(colored(\"\\nDisplay Confusion Matrix:\\n\", \"blue\"))\n",
    "        cm_display.plot()\n",
    "        plt.show()"
   ]
  },
  {
   "cell_type": "code",
   "execution_count": 3,
   "metadata": {},
   "outputs": [
    {
     "data": {
      "text/html": [
       "<div>\n",
       "<style scoped>\n",
       "    .dataframe tbody tr th:only-of-type {\n",
       "        vertical-align: middle;\n",
       "    }\n",
       "\n",
       "    .dataframe tbody tr th {\n",
       "        vertical-align: top;\n",
       "    }\n",
       "\n",
       "    .dataframe thead th {\n",
       "        text-align: right;\n",
       "    }\n",
       "</style>\n",
       "<table border=\"1\" class=\"dataframe\">\n",
       "  <thead>\n",
       "    <tr style=\"text-align: right;\">\n",
       "      <th></th>\n",
       "      <th>age</th>\n",
       "      <th>sex</th>\n",
       "      <th>cp</th>\n",
       "      <th>trestbps</th>\n",
       "      <th>chol</th>\n",
       "      <th>fbs</th>\n",
       "      <th>restecg</th>\n",
       "      <th>thalach</th>\n",
       "      <th>exang</th>\n",
       "      <th>oldpeak</th>\n",
       "      <th>slope</th>\n",
       "      <th>ca</th>\n",
       "      <th>thal</th>\n",
       "      <th>target</th>\n",
       "    </tr>\n",
       "  </thead>\n",
       "  <tbody>\n",
       "    <tr>\n",
       "      <th>0</th>\n",
       "      <td>52</td>\n",
       "      <td>1</td>\n",
       "      <td>0</td>\n",
       "      <td>125</td>\n",
       "      <td>212</td>\n",
       "      <td>0</td>\n",
       "      <td>1</td>\n",
       "      <td>168</td>\n",
       "      <td>0</td>\n",
       "      <td>1.0</td>\n",
       "      <td>2</td>\n",
       "      <td>2</td>\n",
       "      <td>3</td>\n",
       "      <td>0</td>\n",
       "    </tr>\n",
       "    <tr>\n",
       "      <th>1</th>\n",
       "      <td>53</td>\n",
       "      <td>1</td>\n",
       "      <td>0</td>\n",
       "      <td>140</td>\n",
       "      <td>203</td>\n",
       "      <td>1</td>\n",
       "      <td>0</td>\n",
       "      <td>155</td>\n",
       "      <td>1</td>\n",
       "      <td>3.1</td>\n",
       "      <td>0</td>\n",
       "      <td>0</td>\n",
       "      <td>3</td>\n",
       "      <td>0</td>\n",
       "    </tr>\n",
       "    <tr>\n",
       "      <th>2</th>\n",
       "      <td>70</td>\n",
       "      <td>1</td>\n",
       "      <td>0</td>\n",
       "      <td>145</td>\n",
       "      <td>174</td>\n",
       "      <td>0</td>\n",
       "      <td>1</td>\n",
       "      <td>125</td>\n",
       "      <td>1</td>\n",
       "      <td>2.6</td>\n",
       "      <td>0</td>\n",
       "      <td>0</td>\n",
       "      <td>3</td>\n",
       "      <td>0</td>\n",
       "    </tr>\n",
       "    <tr>\n",
       "      <th>3</th>\n",
       "      <td>61</td>\n",
       "      <td>1</td>\n",
       "      <td>0</td>\n",
       "      <td>148</td>\n",
       "      <td>203</td>\n",
       "      <td>0</td>\n",
       "      <td>1</td>\n",
       "      <td>161</td>\n",
       "      <td>0</td>\n",
       "      <td>0.0</td>\n",
       "      <td>2</td>\n",
       "      <td>1</td>\n",
       "      <td>3</td>\n",
       "      <td>0</td>\n",
       "    </tr>\n",
       "    <tr>\n",
       "      <th>4</th>\n",
       "      <td>62</td>\n",
       "      <td>0</td>\n",
       "      <td>0</td>\n",
       "      <td>138</td>\n",
       "      <td>294</td>\n",
       "      <td>1</td>\n",
       "      <td>1</td>\n",
       "      <td>106</td>\n",
       "      <td>0</td>\n",
       "      <td>1.9</td>\n",
       "      <td>1</td>\n",
       "      <td>3</td>\n",
       "      <td>2</td>\n",
       "      <td>0</td>\n",
       "    </tr>\n",
       "  </tbody>\n",
       "</table>\n",
       "</div>"
      ],
      "text/plain": [
       "   age  sex  cp  trestbps  chol  fbs  restecg  thalach  exang  oldpeak  slope  \\\n",
       "0   52    1   0       125   212    0        1      168      0      1.0      2   \n",
       "1   53    1   0       140   203    1        0      155      1      3.1      0   \n",
       "2   70    1   0       145   174    0        1      125      1      2.6      0   \n",
       "3   61    1   0       148   203    0        1      161      0      0.0      2   \n",
       "4   62    0   0       138   294    1        1      106      0      1.9      1   \n",
       "\n",
       "   ca  thal  target  \n",
       "0   2     3       0  \n",
       "1   0     3       0  \n",
       "2   0     3       0  \n",
       "3   1     3       0  \n",
       "4   3     2       0  "
      ]
     },
     "execution_count": 3,
     "metadata": {},
     "output_type": "execute_result"
    }
   ],
   "source": [
    "df = pd.read_csv(\"./heart.csv\")\n",
    "df.head(5)"
   ]
  },
  {
   "cell_type": "code",
   "execution_count": 4,
   "metadata": {},
   "outputs": [
    {
     "data": {
      "image/png": "[encoded data removed]",
      "text/plain": [
       "<Figure size 432x288 with 1 Axes>"
      ]
     },
     "metadata": {
      "needs_background": "light"
     },
     "output_type": "display_data"
    }
   ],
   "source": [
    "df['target'].value_counts().plot.bar()\n",
    "plt.show()"
   ]
  },
  {
   "cell_type": "code",
   "execution_count": 5,
   "metadata": {},
   "outputs": [
    {
     "data": {
      "text/plain": [
       "(1025, 14)"
      ]
     },
     "execution_count": 5,
     "metadata": {},
     "output_type": "execute_result"
    }
   ],
   "source": [
    "df.shape"
   ]
  },
  {
   "cell_type": "code",
   "execution_count": 6,
   "metadata": {},
   "outputs": [],
   "source": [
    "scaler = StandardScaler()\n",
    "categorical_features = [\"sex\", \"cp\", \"fbs\", \"restecg\", \"exang\", \"slope\", \"ca\", \"thal\"]\n",
    "contiuous_features  = [feature for feature in df.columns.values if feature not in categorical_features]\n",
    "contiuous_features.remove('target')"
   ]
  },
  {
   "cell_type": "code",
   "execution_count": 7,
   "metadata": {},
   "outputs": [
    {
     "name": "stdout",
     "output_type": "stream",
     "text": [
      "Unique value of sex: [1 0]\n",
      "Unique value of cp: [0 1 2 3]\n",
      "Unique value of fbs: [0 1]\n",
      "Unique value of restecg: [1 0 2]\n",
      "Unique value of exang: [0 1]\n",
      "Unique value of slope: [2 0 1]\n",
      "Unique value of ca: [2 0 1 3 4]\n",
      "Unique value of thal: [3 2 1 0]\n"
     ]
    }
   ],
   "source": [
    "print(f\"Unique value of sex: {df.sex.unique()}\")\n",
    "print(f\"Unique value of cp: {df.cp.unique()}\")\n",
    "print(f\"Unique value of fbs: {df.fbs.unique()}\")\n",
    "print(f\"Unique value of restecg: {df.restecg.unique()}\")\n",
    "print(f\"Unique value of exang: {df.exang.unique()}\")\n",
    "print(f\"Unique value of slope: {df.slope.unique()}\")\n",
    "print(f\"Unique value of ca: {df.ca.unique()}\")\n",
    "print(f\"Unique value of thal: {df.thal.unique()}\")"
   ]
  },
  {
   "cell_type": "markdown",
   "metadata": {},
   "source": [
    "# Preprocessing data"
   ]
  },
  {
   "cell_type": "code",
   "execution_count": 8,
   "metadata": {},
   "outputs": [
    {
     "name": "stdout",
     "output_type": "stream",
     "text": [
      "Number of label 1 in train set: 368\n",
      "Number of label 1 in test set: 158\n",
      "Number of label 0 in train set: 349\n",
      "Number of label 0 in test set: 150\n"
     ]
    }
   ],
   "source": [
    "train_ratio = 0.7\n",
    "df_label_1 = df[df[\"target\"] == 1]\n",
    "X_label_1_continuous = scaler.fit_transform(df_label_1[contiuous_features].values)\n",
    "X_label_1_categorical = df_label_1[categorical_features].values\n",
    "X_label_1 = np.concatenate((X_label_1_continuous, X_label_1_categorical), axis=1)\n",
    "X_label_1_train = X_label_1[:int(X_label_1.shape[0] * train_ratio), :]\n",
    "print(f\"Number of label 1 in train set: {X_label_1_train.shape[0]}\")\n",
    "X_label_1_test = X_label_1[int(X_label_1.shape[0] * train_ratio):, :]\n",
    "print(f\"Number of label 1 in test set: {X_label_1_test.shape[0]}\")\n",
    "assert X_label_1_train.shape[0] !=  X_label_1_test.shape[0], \"Split train-test have problem\"\n",
    "assert X_label_1_train.shape[0] + X_label_1_test.shape[0] == X_label_1.shape[0], \"Sum of samples from train-test set wrong!\"\n",
    "\n",
    "df_label_0 = df[df[\"target\"] == 0]\n",
    "X_label_0_continuous = scaler.fit_transform(df_label_0[contiuous_features].values)\n",
    "X_label_0_categorical = df_label_0[categorical_features].values\n",
    "X_label_0 = np.concatenate((X_label_0_continuous, X_label_0_categorical), axis=1)\n",
    "X_label_0_train = X_label_0[:int(X_label_0.shape[0] * train_ratio), :]\n",
    "print(f\"Number of label 0 in train set: {X_label_0_train.shape[0]}\")\n",
    "X_label_0_test = X_label_0[int(X_label_0.shape[0] * train_ratio):, :]\n",
    "print(f\"Number of label 0 in test set: {X_label_0_test.shape[0]}\")\n",
    "assert X_label_0_train.shape[0] !=  X_label_0_test.shape[0], \"Split train-test have problem\"\n",
    "assert X_label_0_train.shape[0] + X_label_0_test.shape[0] == X_label_0.shape[0], \"Sum of samples from train-test set wrong!\""
   ]
  },
  {
   "cell_type": "markdown",
   "metadata": {},
   "source": [
    "# Train - Test"
   ]
  },
  {
   "cell_type": "code",
   "execution_count": 9,
   "metadata": {},
   "outputs": [
    {
     "name": "stdout",
     "output_type": "stream",
     "text": [
      "X_train shape: (717, 13)\n",
      "y_train shape: (717, 1)\n",
      "X_test shape: (308, 13)\n",
      "y_test shape: (308, 1)\n"
     ]
    },
    {
     "name": "stderr",
     "output_type": "stream",
     "text": [
      "Training Proceed: 100%|██████████| 1000/1000 [00:08<00:00, 117.44it/s, loss=0.331]\n"
     ]
    },
    {
     "data": {
      "image/png": "[encoded data removed]",
      "text/plain": [
       "<Figure size 432x288 with 1 Axes>"
      ]
     },
     "metadata": {
      "needs_background": "light"
     },
     "output_type": "display_data"
    },
    {
     "name": "stdout",
     "output_type": "stream",
     "text": [
      "\u001b[34m\n",
      "Evaluate on Test Set:\n",
      "\u001b[0m\n",
      "\u001b[33m\tAccuracy: 0.815\u001b[0m\n",
      "\u001b[33m\tPrecision: 0.826\u001b[0m\n",
      "\u001b[33m\tRecall: 0.810\u001b[0m\n",
      "\u001b[33m\tF1-score: 0.818\u001b[0m\n",
      "\u001b[34m\n",
      "Display Confusion Matrix:\n",
      "\u001b[0m\n"
     ]
    },
    {
     "data": {
      "image/png": "[encoded data removed]",
      "text/plain": [
       "<Figure size 432x288 with 2 Axes>"
      ]
     },
     "metadata": {
      "needs_background": "light"
     },
     "output_type": "display_data"
    }
   ],
   "source": [
    "X_train_base = np.concatenate((X_label_1_train, X_label_0_train), axis=0)\n",
    "y_train_base = np.expand_dims(np.array([1] * X_label_1_train.shape[0] + [0] * X_label_0_train.shape[0]), axis=1)\n",
    "data_train_base = np.concatenate((X_train_base, y_train_base), axis=1)\n",
    "data_train_base = shuffle(data_train_base)\n",
    "X_train_base = data_train_base[:, :-1]\n",
    "y_train_base = np.expand_dims(data_train_base[:, -1], axis=1)\n",
    "\n",
    "X_test_base = np.concatenate((X_label_1_test, X_label_0_test), axis=0)\n",
    "y_test_base = np.expand_dims(np.array([1] * X_label_1_test.shape[0] + [0] * X_label_0_test.shape[0]), axis=1)\n",
    "data_test_base = np.concatenate((X_test_base, y_test_base), axis=1)\n",
    "data_test_base = shuffle(data_test_base)\n",
    "X_test_base = data_test_base[:, :-1]\n",
    "y_test_base = np.expand_dims(data_test_base[:, -1], axis=1)\n",
    "\n",
    "print(f\"X_train shape: {X_train_base.shape}\")\n",
    "print(f\"y_train shape: {y_train_base.shape}\")\n",
    "print(f\"X_test shape: {X_test_base.shape}\")\n",
    "print(f\"y_test shape: {y_test_base.shape}\")\n",
    "\n",
    "np.random.seed(42)\n",
    "model = Logistic_Regression(13, 1, 1000, 0.09)\n",
    "model.fit(X_train_base, y_train_base)\n",
    "model.plot_loss()\n",
    "model.evaluate(X_test_base, y_test_base)"
   ]
  },
  {
   "cell_type": "code",
   "execution_count": 10,
   "metadata": {},
   "outputs": [
    {
     "name": "stdout",
     "output_type": "stream",
     "text": [
      "X_train shape: (449, 13)\n",
      "y_train shape: (449, 1)\n",
      "X_test shape: (308, 13)\n",
      "y_test shape: (308, 1)\n"
     ]
    },
    {
     "data": {
      "image/png": "[encoded data removed]",
      "text/plain": [
       "<Figure size 432x288 with 1 Axes>"
      ]
     },
     "metadata": {
      "needs_background": "light"
     },
     "output_type": "display_data"
    }
   ],
   "source": [
    "X_label_1_train_100_samples = X_label_1_train[:100, :]\n",
    "X_train_100_samples = np.concatenate((X_label_1_train_100_samples, X_label_0_train), axis=0)\n",
    "y_train_100_samples = np.expand_dims(np.array([1] * X_label_1_train_100_samples.shape[0] + [0] * X_label_0_train.shape[0]), axis=1)\n",
    "data_train_100_samples = np.concatenate((X_train_100_samples, y_train_100_samples), axis=1)\n",
    "data_train_100_samples = shuffle(data_train_100_samples)\n",
    "X_train_100_samples = data_train_100_samples[:, :-1]\n",
    "y_train_100_samples = np.expand_dims(data_train_100_samples[:, -1], axis=1)\n",
    "\n",
    "print(f\"X_train shape: {X_train_100_samples.shape}\")\n",
    "print(f\"y_train shape: {y_train_100_samples.shape}\")\n",
    "print(f\"X_test shape: {X_test_base.shape}\")\n",
    "print(f\"y_test shape: {y_test_base.shape}\")\n",
    "\n",
    "plt.bar([\"0\", \"1\"], [X_label_0_train.shape[0], X_label_1_train_100_samples.shape[0]])\n",
    "plt.show()"
   ]
  },
  {
   "cell_type": "code",
   "execution_count": 11,
   "metadata": {},
   "outputs": [
    {
     "name": "stderr",
     "output_type": "stream",
     "text": [
      "Training Proceed: 100%|██████████| 1000/1000 [00:04<00:00, 219.69it/s, loss=0.254]\n"
     ]
    },
    {
     "data": {
      "image/png": "[encoded data removed]",
      "text/plain": [
       "<Figure size 432x288 with 1 Axes>"
      ]
     },
     "metadata": {
      "needs_background": "light"
     },
     "output_type": "display_data"
    },
    {
     "name": "stdout",
     "output_type": "stream",
     "text": [
      "\u001b[34m\n",
      "Evaluate on Test Set:\n",
      "\u001b[0m\n",
      "\u001b[33m\tAccuracy: 0.782\u001b[0m\n",
      "\u001b[33m\tPrecision: 0.917\u001b[0m\n",
      "\u001b[33m\tRecall: 0.633\u001b[0m\n",
      "\u001b[33m\tF1-score: 0.749\u001b[0m\n",
      "\u001b[34m\n",
      "Display Confusion Matrix:\n",
      "\u001b[0m\n"
     ]
    },
    {
     "data": {
      "image/png": "[encoded data removed]",
      "text/plain": [
       "<Figure size 432x288 with 2 Axes>"
      ]
     },
     "metadata": {
      "needs_background": "light"
     },
     "output_type": "display_data"
    }
   ],
   "source": [
    "np.random.seed(42)\n",
    "model2 = Logistic_Regression(13, 1, 1000, 0.09)\n",
    "model2.fit(X_train_100_samples, y_train_100_samples)\n",
    "model2.plot_loss()\n",
    "model2.evaluate(X_test_base, y_test_base)"
   ]
  },
  {
   "cell_type": "code",
   "execution_count": 12,
   "metadata": {},
   "outputs": [
    {
     "name": "stderr",
     "output_type": "stream",
     "text": [
      "Training Proceed: 100%|██████████| 3000/3000 [00:12<00:00, 231.30it/s, loss=0.604]\n"
     ]
    },
    {
     "data": {
      "image/png": "[encoded data removed]",
      "text/plain": [
       "<Figure size 432x288 with 1 Axes>"
      ]
     },
     "metadata": {
      "needs_background": "light"
     },
     "output_type": "display_data"
    },
    {
     "name": "stdout",
     "output_type": "stream",
     "text": [
      "\u001b[34m\n",
      "Evaluate on Test Set:\n",
      "\u001b[0m\n",
      "\u001b[33m\tAccuracy: 0.795\u001b[0m\n",
      "\u001b[33m\tPrecision: 0.920\u001b[0m\n",
      "\u001b[33m\tRecall: 0.658\u001b[0m\n",
      "\u001b[33m\tF1-score: 0.768\u001b[0m\n",
      "\u001b[34m\n",
      "Display Confusion Matrix:\n",
      "\u001b[0m\n"
     ]
    },
    {
     "data": {
      "image/png": "[encoded data removed]",
      "text/plain": [
       "<Figure size 432x288 with 2 Axes>"
      ]
     },
     "metadata": {
      "needs_background": "light"
     },
     "output_type": "display_data"
    }
   ],
   "source": [
    "np.random.seed(42)\n",
    "model3 = Logistic_Regression(13, 1, 3000, 0.09, 0.3)\n",
    "model3.fit(X_train_100_samples, y_train_100_samples)\n",
    "model3.plot_loss()\n",
    "model3.evaluate(X_test_base, y_test_base)"
   ]
  }
 ],
 "metadata": {
  "kernelspec": {
   "display_name": "Python 3.9.12 ('base')",
   "language": "python",
   "name": "python3"
  },
  "language_info": {
   "codemirror_mode": {
    "name": "ipython",
    "version": 3
   },
   "file_extension": ".py",
   "mimetype": "text/x-python",
   "name": "python",
   "nbconvert_exporter": "python",
   "pygments_lexer": "ipython3",
   "version": "3.9.12"
  },
  "orig_nbformat": 4,
  "vscode": {
   "interpreter": {
    "hash": "aec3fc80f2e056856a275444272572a66dc0bf6a7990d6eb1eacd066d254e819"
   }
  }
 },
 "nbformat": 4,
 "nbformat_minor": 2
}
